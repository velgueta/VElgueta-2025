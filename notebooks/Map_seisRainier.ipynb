{
 "cells": [
  {
   "cell_type": "code",
   "execution_count": null,
   "id": "a4a3867b",
   "metadata": {},
   "outputs": [],
   "source": [
    "import pandas as pd\n",
    "import numpy as np\n",
    "import pygmt\n",
    "from collections import Counter\n",
    "import os\n",
    "from scipy.spatial.distance import cdist"
   ]
  },
  {
   "cell_type": "code",
   "execution_count": null,
   "id": "d0765a33",
   "metadata": {},
   "outputs": [],
   "source": [
    "df_road = pd.read_csv(\"/home/velgueta/notebooks/project_Mt-Rainier_DAS/Notebooks/Paradise2NisquallyEntrace_Channels.csv\")\n",
    "df_road.head()"
   ]
  },
  {
   "cell_type": "code",
   "execution_count": null,
   "id": "9e2be7c8",
   "metadata": {},
   "outputs": [],
   "source": [
    "# list of seismic? stations in Mt Rainier\n",
    "df_seis = pd.read_csv(\"/home/velgueta/notebooks/project_Mt-Rainier_DAS/Text-files/MtRainier_seis.txt\",sep=\"|\")\n",
    "#print(df_seis.head())\n",
    "#df_seis[\"Station\"]"
   ]
  },
  {
   "cell_type": "code",
   "execution_count": null,
   "id": "57d7ec9f",
   "metadata": {},
   "outputs": [],
   "source": [
    "# create short station list including stations which detect avalanche on 2023-12-10T12:09\n",
    "sta_list = ['RER', 'RCS', 'RCM', 'LON', 'LO2', 'SIFT', 'RUSH', 'PR05', 'PR04', 'PARA', 'PANH', 'OBSR', 'ARAT']\n",
    "df_seis_short = df_seis[df_seis[\"Station\"].isin(sta_list)]\n",
    "df_seis_short"
   ]
  },
  {
   "cell_type": "code",
   "execution_count": null,
   "id": "e319aa96",
   "metadata": {},
   "outputs": [],
   "source": [
    "# loading swarm \n",
    "\n",
    "df_swarm = pd.read_csv(\"/home/velgueta/notebooks/project_Mt-Rainier_DAS/Text-files/pnsn_event_export_5dias.csv\")\n"
   ]
  },
  {
   "cell_type": "code",
   "execution_count": null,
   "id": "23dbb5e8",
   "metadata": {},
   "outputs": [],
   "source": [
    "df_seismicity = pd.read_csv('/home/velgueta/notebooks/project_Mt-Rainier_DAS/Text-files/pnsn_event_export_20240613.csv')"
   ]
  },
  {
   "cell_type": "code",
   "execution_count": null,
   "id": "4b45b14b",
   "metadata": {},
   "outputs": [],
   "source": [
    "df_template = pd.read_csv(\"/home/velgueta/notebooks/project_Mt-Rainier_DAS/Text-files/Template-location.csv\")\n",
    "df_template.head()"
   ]
  },
  {
   "cell_type": "code",
   "execution_count": null,
   "id": "b5ae84e5",
   "metadata": {},
   "outputs": [],
   "source": [
    "df_seismicity[\"Depth Km\"].max()"
   ]
  },
  {
   "cell_type": "code",
   "execution_count": null,
   "id": "4b12d4ed",
   "metadata": {},
   "outputs": [],
   "source": [
    "import numpy as np\n",
    "\n",
    "# Define region\n",
    "RR = [-122.1, -121.45, 46.65, 47.]\n",
    "grid = pygmt.datasets.load_earth_relief(resolution=\"03s\", region=RR)\n",
    "\n",
    "# Extraer valores mínimo y máximo de elevación correctamente\n",
    "grid_min = float(grid.min().values)\n",
    "grid_max = float(grid.max().values)\n",
    "\n",
    "# Crear hillshade\n",
    "shading = pygmt.grdgradient(grid, azimuth=315)\n",
    "\n",
    "# Crear un colormap fijo para la elevación (para que no cambie en diferentes mapas)\n",
    "pygmt.makecpt(cmap=\"geo\", series=[grid_min, grid_max], continuous=True)\n",
    "\n",
    "# Crear la figura\n",
    "fig = pygmt.Figure()\n",
    "\n",
    "with pygmt.config(FONT_ANNOT_PRIMARY=\"15p\", MAP_FRAME_TYPE=\"plain\"):\n",
    "    fig.grdimage(grid=grid, shading=shading, projection=\"M15c\", frame=\"a\", \n",
    "                 cmap=\"geo\", transparency=30)  # Fijar colormap de elevación\n",
    "\n",
    "# Agregar barra de color para la elevación\n",
    "with pygmt.config(FONT_LABEL=\"20p\"):\n",
    "    fig.colorbar(position='JMB+w15c/0.5c+o0c/1c', frame='af+l\"Elevation (m)\"')\n",
    "\n",
    "\n",
    "# Plot del camino para DAS\n",
    "fig.plot(x=df_road['Longitude [°]'], y=df_road['Latitude [°]'], pen='3p,purple', label='DAS array')\n",
    "\n",
    "# Plot de estaciones sísmicas\n",
    "fig.plot(x=df_seis[\"Longitude\"], y=df_seis[\"Latitude\"],\n",
    "         style=\"i0.50c\", pen=\"1p,black\", fill=\"black\", transparency=30)\n",
    "\n",
    "# Crear mapa de colores para profundidad basado en Scientific Colour Maps\n",
    "pygmt.makecpt(cmap=\"roma.cpt\", \n",
    "              series=[df_seismicity[\"Depth Km\"].min(), df_seismicity[\"Depth Km\"].max()], \n",
    "              continuous=True)\n",
    "\n",
    "# Plot de eventos sísmicos con color por profundidad y tamaño por magnitud\n",
    "fig.plot(x=df_seismicity[\"Lon\"], y=df_seismicity[\"Lat\"],\n",
    "         style=\"c\", pen=\"1p,black\", fill=df_seismicity[\"Depth Km\"], \n",
    "         cmap=True, size=0.2 + df_seismicity[\"Magnitude\"] * 0.1)\n",
    "\n",
    "fig.plot(x=df_swarm[\"Lon\"], y=df_swarm[\"Lat\"],\n",
    "         style=\"c\", pen=\"1p,black\", fill=df_swarm[\"Depth Km\"], \n",
    "         cmap=True, size=0.2 + df_swarm[\"Magnitude\"] * 0.1)\n",
    "\n",
    "fig.plot(x=df_template[\"Lon\"], y=df_template[\"Lat\"],\n",
    "         style=\"c\", pen=\"1p,black\", fill=df_template[\"Depth Km\"], \n",
    "         cmap=True, size=0.2 + df_template[\"Magnitude\"] * 0.1)\n",
    "\n",
    "# Crear archivo temporal para la leyenda de magnitud\n",
    "legend_file = \"legend.txt\"\n",
    "with open(legend_file, \"w\") as f:\n",
    "    f.write(\"S 0.1c c 0.4c white 1p,black 0.4c M1\\n\")\n",
    "    f.write(\"S 0.1c c 0.5c white 1p,black 0.5c M2\\n\")\n",
    "    f.write(\"S 0.1c c 0.6c white 1p,black 0.6c M3\\n\")\n",
    "\n",
    "fig.text(x=df_road['Longitude [°]'].iloc[0], \n",
    "         y=df_road['Latitude [°]'].iloc[0], \n",
    "         text=\"PARADISE\", \n",
    "         font=\"14p,black\", \n",
    "         justify=\"LT\", \n",
    "         offset=\"0.2c/0.2c\")\n",
    "\n",
    "\n",
    "fig.text(x=df_road['Longitude [°]'].iloc[2000], \n",
    "         y=df_road['Latitude [°]'].iloc[2000], \n",
    "         text=\"LONGMIRE\", \n",
    "         font=\"14p,black\", \n",
    "         justify=\"LT\", \n",
    "         offset=\"0.2c/0.2c\")\n",
    "\n",
    "# Leyenda de estaciones sísmicas\n",
    "fig.plot(x=np.nan, y=np.nan, style=\"i0.5c\", pen=\"0.5p,black\", fill=\"black\", \n",
    "         label='PNSN+CVO network--> Seismometer')\n",
    "with pygmt.config(FONT_ANNOT=\"12p\"):\n",
    "    fig.legend(position=\"jTR+o0.5c/0.5c\", box=\"+gwhite+p1p+pad=0.5c\")\n",
    "#fig.legend(position=\"jTR+o0.5c/0.5c\", box=\"+gwhite+p1p\")\n",
    "\n",
    "with pygmt.config(FONT_ANNOT_PRIMARY=\"15p\"):\n",
    "    fig.legend(transparency=15, position=\"jTR+o0.2c\")\n",
    "\n",
    "# Agregar barra de color para profundidad con SCM\n",
    "with pygmt.config(FONT_LABEL=\"20p\"):\n",
    "    fig.colorbar(position=\"JMR+w12c/0.5c+o1c/0c\", frame='af+l\"Depth (km)\"')\n",
    "\n",
    "# Agregar leyenda de magnitud\n",
    "fig.legend(spec=legend_file, position=\"jBL+o0.5c/0.5c\", box=\"+gwhite+p1p\")\n",
    "\n",
    "\n",
    "# Mostrar y guardar figura\n",
    "fig.show()\n",
    "fig.savefig(\"./seismicitymap.png\", dpi=300)\n",
    "\n",
    "# Eliminar archivo temporal\n",
    "os.remove(legend_file)\n"
   ]
  },
  {
   "cell_type": "code",
   "execution_count": null,
   "id": "4dfc3e82",
   "metadata": {},
   "outputs": [],
   "source": []
  }
 ],
 "metadata": {
  "kernelspec": {
   "display_name": "pygmt",
   "language": "python",
   "name": "pygmt"
  },
  "language_info": {
   "codemirror_mode": {
    "name": "ipython",
    "version": 3
   },
   "file_extension": ".py",
   "mimetype": "text/x-python",
   "name": "python",
   "nbconvert_exporter": "python",
   "pygments_lexer": "ipython3",
   "version": "3.12.2"
  }
 },
 "nbformat": 4,
 "nbformat_minor": 5
}
